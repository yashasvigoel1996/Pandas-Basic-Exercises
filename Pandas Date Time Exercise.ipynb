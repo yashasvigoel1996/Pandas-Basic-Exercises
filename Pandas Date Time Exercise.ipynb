{
 "cells": [
  {
   "cell_type": "markdown",
   "metadata": {},
   "source": [
    "#### 1. Write a Python script to display the\n",
    "#### a. Current date and time\n",
    "#### b. Current year\n",
    "#### c. Month of year\n",
    "#### d. Week number of the year\n",
    "#### e. Weekday of the week\n",
    "#### f. Day of year\n",
    "#### g. Day of the month\n",
    "#### h. Day of week"
   ]
  },
  {
   "cell_type": "code",
   "execution_count": 71,
   "metadata": {},
   "outputs": [],
   "source": [
    "import pandas as pd\n",
    "def currentDateAnalysis():\n",
    "    print(\"Current Date and Time - {}\".format(pd.datetime.now()))\n",
    "    print(\"Current Year - {}\".format(pd.datetime.now().year))\n",
    "    print(\"Month of year - {}\".format(pd.datetime.now().month))\n",
    "    #weekNumber = pd.Series(pd.datetime.now()).dt.week.values[0]\n",
    "    print(\"Week number of the year - {}\".format(pd.Series(pd.datetime.now()).dt.week.values[0]))\n",
    "    print(\"Weekday of the week - {}\".format(pd.Series(pd.datetime.now()).dt.dayofweek.values[0]))\n",
    "    print(\"Day of year - {}\".format(pd.Series(pd.datetime.now()).dt.dayofyear.values[0]))\n",
    "    print(\"Day of the month - {}\".format(pd.Series(pd.datetime.now()).dt.day.values[0]))\n",
    "    print(\"Day of week - {}\".format(pd.Series(pd.datetime.now()).dt.dayofweek.values[0]))\n",
    "    "
   ]
  },
  {
   "cell_type": "code",
   "execution_count": 72,
   "metadata": {},
   "outputs": [
    {
     "name": "stdout",
     "output_type": "stream",
     "text": [
      "Current Date and Time - 2019-06-15 15:53:47.880690\n",
      "Current Year - 2019\n",
      "Month of year - 6\n",
      "Week number of the year - 24\n",
      "Weekday of the week - 5\n",
      "Day of year - 166\n",
      "Day of the month - 15\n",
      "Day of week - 5\n"
     ]
    }
   ],
   "source": [
    "currentDateAnalysis()"
   ]
  },
  {
   "cell_type": "markdown",
   "metadata": {},
   "source": [
    "#### 2. Write a Python program to convert a string to datetime.\n",
    "Sample String : Jan 1 2014 2:43PM \n",
    "\n",
    "Expected Output : 2014-01-01 14:43:00"
   ]
  },
  {
   "cell_type": "code",
   "execution_count": 77,
   "metadata": {},
   "outputs": [],
   "source": [
    "def stringToDatetime(dateTimeString):\n",
    "    print(pd.to_datetime(dateTimeString,format=\"%b %d %Y %I:%M%p\"))"
   ]
  },
  {
   "cell_type": "code",
   "execution_count": 78,
   "metadata": {},
   "outputs": [
    {
     "name": "stdout",
     "output_type": "stream",
     "text": [
      "2014-01-01 14:43:00\n"
     ]
    }
   ],
   "source": [
    "stringToDatetime(\"Jan 1 2014 2:43PM\")"
   ]
  },
  {
   "cell_type": "markdown",
   "metadata": {},
   "source": [
    "#### 3. Write a Python program to subtract five days from current date.\n",
    "\n",
    "Current Date : 2015-06-22\n",
    "\n",
    "5 days before Current Date : 2015-06-17"
   ]
  },
  {
   "cell_type": "code",
   "execution_count": 79,
   "metadata": {},
   "outputs": [],
   "source": [
    "from datetime import datetime, timedelta\n",
    "\n",
    "def subtractFiveDays():\n",
    "    date = datetime.today()-timedelta(days=5)\n",
    "    print(date)\n"
   ]
  },
  {
   "cell_type": "code",
   "execution_count": 80,
   "metadata": {},
   "outputs": [
    {
     "name": "stdout",
     "output_type": "stream",
     "text": [
      "2019-06-10 16:03:58.573621\n"
     ]
    }
   ],
   "source": [
    "subtractFiveDays()"
   ]
  },
  {
   "cell_type": "markdown",
   "metadata": {},
   "source": [
    "#### 4. Write a Python program to convert unix timestamp string to readable date.\n",
    "\n",
    "Sample Unix timestamp string : 1284105682\n",
    "    \n",
    "Expected Output : 2010-09-10 13:31:22"
   ]
  },
  {
   "cell_type": "code",
   "execution_count": 89,
   "metadata": {},
   "outputs": [],
   "source": [
    "import datetime\n",
    "\n",
    "def unixTimestampToDate(unixString):\n",
    "    print(\n",
    "        datetime.datetime.fromtimestamp(\n",
    "            int(\"1284105682\")\n",
    "        ).strftime('%Y-%m-%d %H:%M:%S'))"
   ]
  },
  {
   "cell_type": "code",
   "execution_count": 90,
   "metadata": {},
   "outputs": [
    {
     "name": "stdout",
     "output_type": "stream",
     "text": [
      "2010-09-10 03:01:22\n"
     ]
    }
   ],
   "source": [
    "unixTimestampToDate(\"1284105682\")"
   ]
  },
  {
   "cell_type": "markdown",
   "metadata": {},
   "source": [
    "#### 5. Convert the below Series to pandas datetime : \n",
    "\n",
    "DoB = pd.Series([\"07Sep59\",\"01Jan55\",\"15Dec47\",\"11Jul42\"])\n",
    "\n",
    "Make sure that the year is 19XX not 20XX"
   ]
  },
  {
   "cell_type": "code",
   "execution_count": 111,
   "metadata": {},
   "outputs": [],
   "source": [
    "DoB = pd.Series([\"07Sep59\",\"01Jan55\",\"15Dec47\",\"11Jul42\"])\n",
    "\n",
    "def seriesToDatetime(DoB):\n",
    "    newDob=[]\n",
    "    for date in DoB:\n",
    "        year=date[5:]\n",
    "        year=\"19\"+year\n",
    "        newDate=date[:5]+year\n",
    "        newDob.append(newDate)\n",
    "    pandasDatetime = pd.to_datetime(pd.Series(newDob),format=\"%d%b%Y\")\n",
    "    print(pandasDatetime)"
   ]
  },
  {
   "cell_type": "code",
   "execution_count": 112,
   "metadata": {},
   "outputs": [
    {
     "name": "stdout",
     "output_type": "stream",
     "text": [
      "0   1959-09-07\n",
      "1   1955-01-01\n",
      "2   1947-12-15\n",
      "3   1942-07-11\n",
      "dtype: datetime64[ns]\n"
     ]
    }
   ],
   "source": [
    "seriesToDatetime(DoB)"
   ]
  },
  {
   "cell_type": "markdown",
   "metadata": {},
   "source": [
    "#### 6. Write a Python program to get days between two dates. "
   ]
  },
  {
   "cell_type": "code",
   "execution_count": 113,
   "metadata": {},
   "outputs": [],
   "source": [
    "def getDays(dateFrom,dateTo):\n",
    "    dateFrom = pd.to_datetime(dateFrom,format=\"%d-%b-%Y\")\n",
    "    dateTo = pd.to_datetime(dateTo,format=\"%d-%b-%Y\")\n",
    "    diff = dateTo - dateFrom\n",
    "    print(diff.days)\n"
   ]
  },
  {
   "cell_type": "code",
   "execution_count": 115,
   "metadata": {},
   "outputs": [
    {
     "name": "stdout",
     "output_type": "stream",
     "text": [
      "6\n"
     ]
    }
   ],
   "source": [
    "getDays(\"9-Jun-2019\",\"15-Jun-2019\")"
   ]
  },
  {
   "cell_type": "markdown",
   "metadata": {},
   "source": [
    "#### 7. Convert the below date to datetime and then change its display format using the .dt module\n",
    "\n",
    "Date = \"15Dec1989\"\n",
    "\n",
    "Result : \"Friday, 15 Dec 98\""
   ]
  },
  {
   "cell_type": "code",
   "execution_count": 118,
   "metadata": {},
   "outputs": [],
   "source": [
    "def changeDisplayFormat(date):\n",
    "    date=pd.to_datetime(date,format=\"%d%b%Y\")\n",
    "    print(pd.Series(date).dt.strftime('%A, %d %b %y'))"
   ]
  },
  {
   "cell_type": "code",
   "execution_count": 119,
   "metadata": {},
   "outputs": [
    {
     "name": "stdout",
     "output_type": "stream",
     "text": [
      "0    Friday, 15 Dec 89\n",
      "dtype: object\n"
     ]
    }
   ],
   "source": [
    "changeDisplayFormat(\"15Dec1989\")"
   ]
  },
  {
   "cell_type": "code",
   "execution_count": null,
   "metadata": {},
   "outputs": [],
   "source": []
  }
 ],
 "metadata": {
  "kernelspec": {
   "display_name": "Python 3",
   "language": "python",
   "name": "python3"
  },
  "language_info": {
   "codemirror_mode": {
    "name": "ipython",
    "version": 3
   },
   "file_extension": ".py",
   "mimetype": "text/x-python",
   "name": "python",
   "nbconvert_exporter": "python",
   "pygments_lexer": "ipython3",
   "version": "3.7.1"
  }
 },
 "nbformat": 4,
 "nbformat_minor": 2
}
